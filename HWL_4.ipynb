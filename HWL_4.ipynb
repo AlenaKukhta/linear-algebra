{
 "cells": [
  {
   "cell_type": "markdown",
   "metadata": {},
   "source": [
    "# Практическая работа к Уроку 4. Системы линейных уравнений"
   ]
  },
  {
   "cell_type": "markdown",
   "metadata": {},
   "source": [
    "## Часть 1"
   ]
  },
  {
   "cell_type": "markdown",
   "metadata": {},
   "source": [
    "**1. Решить систему уравнений методом Гаусса:**\n",
    "\n",
    "$$\\begin{cases} x_{1}+x_{2}-x_{3}-2x_{4}=0, \\\\ 2x_{1}+x_{2}-x_{3}+x_{4}=-2, \\\\ x_{1}+x_{2}-3x_{3}+x_{4}=4. \\end{cases}$$\n",
    "Преобразуем расширенную матрицу системы путем элементарных преобразований:\n",
    "$$\\begin{pmatrix} \\left.\\begin{matrix} 1 & 1 & -1 & -2 \\\\ 2 & 1 & -1 & 1 \\\\ 1 & 1 & -3 & 1 \\end{matrix}\\right| \\begin{matrix} 0\\\\ -2\\\\ 4 \\end{matrix} \\end{pmatrix}$$\n",
    "Отнимем из второй строки первую, умноженную на 2:\n",
    "$$\\begin{pmatrix} \\left.\\begin{matrix} 1 & 1 & -1 & -2\\\\ 0 & -1 & 1 &5\\\\ 1 & 1 & -3 & 1 \\end{matrix}\\right| \\begin{matrix} 0\\\\ -2\\\\ 4 \\end{matrix} \\end{pmatrix}$$\n",
    "Отнимем из третьей строки первую:\n",
    "$$\\begin{pmatrix} \\left.\\begin{matrix} 1 & 1 & -1 & -2\\\\ 0 & -1 & 1 & 5\\\\ 0 & 0 & -2 & 3 \\end{matrix}\\right| \\begin{matrix} 0\\\\ -2\\\\ 4 \\end{matrix} \\end{pmatrix}$$\n",
    "Система имеет бесконечное кол-во решений.\n",
    "Поделим третью строку на 3:\n",
    "$$\\begin{pmatrix} \\left.\\begin{matrix} 1 & 1 & -1 & -2\\\\ 0 & -1 & 1 & 5\\\\ 0 & 0 & -\\frac{2}{3} & 1 \\end{matrix}\\right| \\begin{matrix} 0\\\\ -2\\\\ \\frac{4}{3} \\end{matrix} \\end{pmatrix}$$\n",
    "Оставшаяся матрица соответствует системе:\n",
    "$$\\begin{cases} x_{1} + x_{2} - x_{3} -2 \\cdot x_{4} = 0, \\\\ -x_{2} + x_{3} + 5 \\cdot x_{4} = -2, \\\\ -\\frac{2}{3} \\cdot x_{3} + x_{4} = \\frac{4}{3} \\end{cases}$$\n",
    "Бесконечное множество решений принято записывать в виде общего решения.\n",
    "Последнее уравнение содержит две неизвестных. В данном случае можно рассматривать в качестве свободного параметра $x_{4}=c$. Тогда, выражая остальные переменные через $c$, получим:\n",
    "$x_{4}=c,$\n",
    "$x_{3}=\\frac{4-3c}{-2} \\;$\n",
    "$x_{2}=2 + 5 \\cdot c + \\frac{4-3c}{-2},$\n",
    "$x_{1}=-2 -3 \\cdot c.$\n",
    "Таковым будет общее решение системы. Подставляя произвольные числа вместо $c$, мы получим частное решение. Например, при $c=0$:\n",
    "$x_{1}=-2,$ $x_{2}=0,$ $x_{3}=-2,$ $x_{4}=0.$\n",
    "Параметр $c$ может принимать бесконечное количество значений, при которых уравнения в системе будут обращаться в тождества."
   ]
  },
  {
   "cell_type": "markdown",
   "metadata": {},
   "source": [
    "**2. Проверить на совместность и выяснить, сколько решений будет иметь система линейных уравнений:**\n",
    "\n",
    "__а)__ $\\begin{cases} 3x_{1}-x_{2}+x_{3}=4, \\\\ 2x_{1}-5x_{2}-3x_{3}=-17, \\\\ x_{1}+x_{2}-x_{3}=0; \\end{cases}$\n",
    "\n",
    "$$\\begin{pmatrix} \\left.\\begin{matrix} 3 & -1 & 1 \\\\ 2 & -5 & -3 \\\\ 1 & 1 & -1 \\end{matrix}\\right| \\begin{matrix} 4\\\\ -17\\\\ 0 \\end{matrix} \\end{pmatrix}$$\n",
    "Поделим первую строку на 3:\n",
    "$$\\begin{pmatrix} \\left.\\begin{matrix} 1 & -\\frac{1}{3} & \\frac{1}{3} \\\\ 2 & -5 & -3 \\\\ 1 & 1 & -1 \\end{matrix}\\right| \\begin{matrix} \\frac{4}{3}\\\\ -17\\\\ 0 \\end{matrix} \\end{pmatrix}$$\n",
    "Отнимем из второй строки первую, умноженную на 2:\n",
    "$$\\begin{pmatrix} \\left.\\begin{matrix} 1 & -\\frac{1}{3} & \\frac{1}{3} \\\\ 0 & -\\frac{13}{3} & -\\frac{11}{3} \\\\ 1 & 1 & -1 \\end{matrix}\\right| \\begin{matrix} \\frac{4}{3}\\\\ -\\frac{59}{3}\\\\ 0 \\end{matrix} \\end{pmatrix}$$\n",
    "Отнимем из третьей строки первую:\n",
    "$$\\begin{pmatrix} \\left.\\begin{matrix} 1 & -\\frac{1}{3} & \\frac{1}{3} \\\\ 0 & -\\frac{13}{3} & -\\frac{11}{3} \\\\ 0 & \\frac{4}{3} & -\\frac{4}{3} \\end{matrix}\\right| \\begin{matrix} \\frac{4}{3}\\\\ -\\frac{59}{3}\\\\ -\\frac{4}{3} \\end{matrix} \\end{pmatrix}$$\n",
    "Умножим вторую строку на $-\\frac{3}{13}$, и отнимем вторую строку из третьей:\n",
    "$$\\begin{pmatrix} \\left.\\begin{matrix} 1 & -\\frac{1}{3} & \\frac{1}{3} \\\\ 0 & 1 & \\frac{11}{13} \\\\ 0 & 0 & \\frac{24}{13} \\end{matrix}\\right| \\begin{matrix} \\frac{4}{3}\\\\ \\frac{59}{13}\\\\ \\frac{72}{13} \\end{matrix} \\end{pmatrix}$$\n",
    "Упростим третью строку, путем умножения на 13 и деления полученных значений на 24:\n",
    "$$\\begin{pmatrix} \\left.\\begin{matrix} 1 & -\\frac{1}{3} & \\frac{1}{3} \\\\ 0 & 1 & \\frac{11}{13} \\\\ 0 & 0 & 1 \\end{matrix}\\right| \\begin{matrix} \\frac{4}{3}\\\\ \\frac{59}{13}\\\\ 3 \\end{matrix} \\end{pmatrix}$$\n",
    "$rangA=rang(A|B)=n$, следовательно, система совместная и определенная\n",
    "\n",
    "\n",
    "\n",
    "__б)__ $\\begin{cases} 2x_{1}-4x_{2}+6x_{3}=1, \\\\ x_{1}-2x_{2}+3x_{3}=-2, \\\\ 3x_{1}-6x_{2}+9x_{3}=5; \\end{cases}$\n",
    "\n",
    "\n",
    "$$\\begin{pmatrix} \\left.\\begin{matrix} 2 & -4 & 6 \\\\ 1 & -2 & 3 \\\\ 3 & 6 & -9 \\end{matrix}\\right| \\begin{matrix} 1\\\\ -2\\\\ 5 \\end{matrix} \\end{pmatrix}$$\n",
    "Поделим первую строку на 2:\n",
    "$$\\begin{pmatrix} \\left.\\begin{matrix} 1 & -2 & 3 \\\\ 1 & -2 & 3 \\\\ 3 & 6 & -9 \\end{matrix}\\right| \\begin{matrix} 0.5\\\\ -2\\\\ 5 \\end{matrix} \\end{pmatrix}$$\n",
    "Отнимем из второй строки первую:\n",
    "$$\\begin{pmatrix} \\left.\\begin{matrix} 1 & -2 & 3 \\\\ 0 & 0 & 0 \\\\ 3 & 6 & -9 \\end{matrix}\\right| \\begin{matrix} 0.5\\\\ -2.5\\\\ 5 \\end{matrix} \\end{pmatrix}$$\n",
    "Отнимем из третьей строки первую, умноженную на 3:\n",
    "$$\\begin{pmatrix} \\left.\\begin{matrix} 1 & -2 & 3 \\\\ 0 & 0 & 0 \\\\ 0 & 0 & 0 \\end{matrix}\\right| \\begin{matrix} 0.5\\\\ -2.5\\\\ 3.5 \\end{matrix} \\end{pmatrix}$$\n",
    "Поделим вторую строку на -2.5:\n",
    "$$\\begin{pmatrix} \\left.\\begin{matrix} 1 & -2 & 3 \\\\ 0 & 0 & 0 \\\\ 0 & 0 & 0 \\end{matrix}\\right| \\begin{matrix} 0.5\\\\ 1\\\\ 3.5 \\end{matrix} \\end{pmatrix}$$\n",
    "Отнимем из третьей строки вторую, умноженную на 3.5:\n",
    "$$\\begin{pmatrix} \\left.\\begin{matrix} 1 & -2 & 3 \\\\ 0 & 0 & 0 \\\\ 0 & 0 & 0 \\end{matrix}\\right| \\begin{matrix} 0.5\\\\ 1\\\\ 0 \\end{matrix} \\end{pmatrix}$$\n",
    "$rangA$ не равен $rang(A|B)$, следовательно, система несовместная\n",
    "\n",
    "\n",
    "__в)__ $\\begin{cases} x_{1}+2x_{2}+5x_{3}=4, \\\\ 3x_{1}+x_{2}-8x_{3}=-2. \\end{cases}$\n",
    "\n",
    "$$\\begin{pmatrix} \\left.\\begin{matrix} 1 & 2 & 5 \\\\ 3 & 1 & -8 \\end{matrix}\\right| \\begin{matrix} 4\\\\ -2 \\end{matrix} \\end{pmatrix}$$\n",
    "Отнимем из второй строки первую, умноженную на 3:\n",
    "$$\\begin{pmatrix} \\left.\\begin{matrix} 1 & 2 & 5 \\\\ 0 & -5 & -23 \\end{matrix}\\right| \\begin{matrix} 4\\\\ -14 \\end{matrix} \\end{pmatrix}$$\n",
    "Разделим вторую строку на -5:\n",
    "$$\\begin{pmatrix} \\left.\\begin{matrix} 1 & 2 & 5 \\\\ 0 & 1 & \\frac{23}{5} \\end{matrix}\\right| \\begin{matrix} 4\\\\ \\frac{14}{5} \\end{matrix} \\end{pmatrix}$$\n",
    "$rangA=rang(A|B)<n$, следовательно, система совместная и неопределенная"
   ]
  },
  {
   "cell_type": "markdown",
   "metadata": {},
   "source": [
    "**3. Проверить на совместность и выяснить, сколько решений будет иметь система линейных уравнений, заданная расширенной матрицей**\n",
    "\n",
    "$$\\tilde{A}=\\begin{pmatrix} \\left.\\begin{matrix} 1 & 3 & -2 & 4\\\\ 0 & 5 & 0 & 1\\\\ 0 & 0 & 3 & 0\\\\ 0 & 0 & 0 & 2 \\end{matrix}\\right| \\begin{matrix} 3\\\\ 2\\\\ 4\\\\ 1 \\end{matrix} \\end{pmatrix}.$$\n",
    "$rang(A)=rang(A|B)=n$, следовательно, система совместная и определенная"
   ]
  },
  {
   "cell_type": "markdown",
   "metadata": {},
   "source": [
    "**4. Дана система линейных уравнений, заданная расширенной матрицей**\n",
    "\n",
    "$$\\tilde{A}=\\begin{pmatrix} \\left.\\begin{matrix} 1 & 2 & 3\\\\ 4 & 5 & 6\\\\ 7 & 8 & 9 \\end{matrix}\\right| \\begin{matrix} a\\\\ b\\\\ c \\end{matrix} \\end{pmatrix}.$$\n",
    "Найти соотношение между параметрами $a$, $b$ и $c$, при которых система является несовместной.\n",
    "\n",
    "\n",
    "Отнимем из второй строки первую, умноженную на 4:\n",
    "$$\\begin{pmatrix} \\left.\\begin{matrix} 1 & 2 & 3\\\\ 0 & -3 & -6\\\\ 7 & 8 & 9 \\end{matrix}\\right| \\begin{matrix} a\\\\ b-4 \\cdot a\\\\ c \\end{matrix} \\end{pmatrix}$$\n",
    "Отнимем из третьей строки первую, умноженную на 7:\n",
    "$$\\begin{pmatrix} \\left.\\begin{matrix} 1 & 2 & 3\\\\ 0 & -3 & -6\\\\ 0 & -6 & -12 \\end{matrix}\\right| \\begin{matrix} a\\\\ b-4 \\cdot a\\\\ c-7 \\cdot a \\end{matrix} \\end{pmatrix}$$\n",
    "Отнимем из третьей строки вторую, умноженную на -2:\n",
    "$$\\begin{pmatrix} \\left.\\begin{matrix} 1 & 2 & 3\\\\ 0 & -3 & -6\\\\ 0 & 0 & 0 \\end{matrix}\\right| \\begin{matrix} a\\\\ b-4 \\cdot a\\\\ c-7 \\cdot a + 2\\cdot b -8\\cdot a \\end{matrix} \\end{pmatrix}$$\n",
    "\n",
    "При $(-15 \\cdot a + 2\\cdot b + c)\\neq0$ система является несовместной"
   ]
  },
  {
   "cell_type": "markdown",
   "metadata": {},
   "source": [
    "## Часть 2"
   ]
  },
  {
   "cell_type": "markdown",
   "metadata": {},
   "source": [
    "**5. Решить систему уравнений методом Крамера:**\n",
    "\n",
    "__а)__ $\\begin{cases} x_{1}-2x_{2}=1 \\\\ 3x_{1}-4x_{2}=7 \\end{cases}$\n",
    "\n",
    "Найдем определитель матрицы:\n",
    "$detA=\\begin{vmatrix} 1 & -2\\\\ 3 & -4\\\\ \\end{vmatrix}=(1 \\cdot -4) - (-2 \\cdot 3) = 2$\n",
    "Найдем определитель $detA_{1}$:\n",
    "$detA_{1}=\\begin{vmatrix} 1 & -2\\\\ 7 & -4\\\\ \\end{vmatrix}=(1 \\cdot -4) - (-2 \\cdot 7) = 10$\n",
    "Найдем определитель $detA_{2}$:\n",
    "$detA_{2}=\\begin{vmatrix} 1 & 1\\\\ 3 & 1\\\\ \\end{vmatrix}=(1 \\cdot 7) - (1 \\cdot 3) = 4$\n",
    "Найдем значения $x_{1}, x_{2}$:\n",
    "$x_{1}=10/2=5$\n",
    "$x_{2}=4/2=2$\n",
    "Проверим полученное решение:\n",
    "$\\begin{cases} 5-4=1 \\\\ 15-8=7 \\end{cases}$\n",
    "\n",
    "\n",
    "__б)__ $\\begin{cases} 2x_{1}-x_{2}+5x_{3}=10 \\\\ x_{1}+x_{2}-3x_{3}=-2 \\\\ 2x_{1}+4x_{2}+x_{3}=1 \\end{cases}$\n",
    "\n",
    "Найдем определитель матрицы:\n",
    "$detA=\\begin{vmatrix} 2 & -1 & 5\\\\ 1 & -1 & -3\\\\ 2 & 4 & 1 \\end{vmatrix}=(2 \\cdot 1 \\cdot 1) + (-1 \\cdot -3 \\cdot 2) + (5 \\cdot 1 \\cdot 4) - (5 \\cdot 1 \\cdot 2) - (2 \\cdot -3 \\cdot 4) - (-1 \\cdot 1 \\cdot 1) = 43$\n",
    "Найдем определитель $detA_{1}$:\n",
    "$detA_{1}=\\begin{vmatrix} 10 & -1 & 5\\\\ -2 & -1 & -3\\\\ 1 & 4 & 1 \\end{vmatrix}=(10 \\cdot 1 \\cdot 1) + (-1 \\cdot -3 \\cdot 1) + (5 \\cdot -2 \\cdot 4) - (5 \\cdot 1 \\cdot 1) - (10 \\cdot -3 \\cdot 4) - (-1 \\cdot -2 \\cdot 1) = 86$\n",
    "Найдем определитель $detA_{2}$:\n",
    "$detA_{2}=\\begin{vmatrix} 2 & 10 & 5\\\\ 1 & -2 & -3\\\\ 2 & 1 & 1 \\end{vmatrix}=(2 \\cdot -2 \\cdot 1) + (10 \\cdot -3 \\cdot 2) + (5 \\cdot 1 \\cdot 1) - (5 \\cdot -2 \\cdot 2) - (2 \\cdot -3 \\cdot 1) - (10 \\cdot 1 \\cdot 1) = -43$\n",
    "Найдем определитель $detA_{3}$:\n",
    "$detA_{3}=\\begin{vmatrix} 2 & -1 & 10\\\\ 1 & -1 & -2\\\\ 2 & 4 & 1 \\end{vmatrix}=(2 \\cdot 1 \\cdot 1) + (-1 \\cdot -2 \\cdot 2) + (10 \\cdot 1 \\cdot 4) - (10 \\cdot 1 \\cdot 2) - (2 \\cdot -2 \\cdot 4) - (-1 \\cdot 1 \\cdot 1) = 43$\n",
    "Найдем значения $x_{1}, x_{2}, x_{3}$:\n",
    "$x_{1}=86/43=2$\n",
    "$x_{2}=-43/43=-1$\n",
    "$x_{3}=43/43=1$\n",
    "Проверим полученное решение:\n",
    "$\\begin{cases} 4+1+5=10 \\\\ 2-1-3=-2 \\\\ 4-4+1=1 \\end{cases}$"
   ]
  },
  {
   "cell_type": "markdown",
   "metadata": {},
   "source": [
    "**2*. Найти $L$-матрицу $LU$-разложения для матрицы коэффициентов:**\n",
    "\n",
    "а)$$\\begin{pmatrix} 1 & 2 & 4 \\\\ 2 & 9 & 12 \\\\ 3 & 26 & 30 \\end{pmatrix}$$\n",
    "\n",
    "б)$$\\begin{pmatrix} 1 & 1 & 2 & 4\\\\ 2 & 5 & 8 & 9\\\\ 3 & 18 & 29 & 18\\\\ 4 & 22 & 53 & 33 \\end{pmatrix}$$\n",
    "\n"
   ]
  },
  {
   "cell_type": "markdown",
   "metadata": {},
   "source": [
    "Умножаем первую строчку на 2 и 3 и вычитаем соответственно из 2 и 3 строки. Подставляем в L значения 2 и 3. Умножаем вторую сторочку на 5 и вычитаем из 3. Подставляем значение 5. Мы получили верхнетреуглльную и нижнетреугольную матрицы."
   ]
  },
  {
   "cell_type": "code",
   "execution_count": 1,
   "metadata": {},
   "outputs": [
    {
     "name": "stdout",
     "output_type": "stream",
     "text": [
      "[[ 1.  2.  4.]\n",
      " [ 2.  9. 12.]\n",
      " [ 3. 26. 30.]]\n",
      "L-матрица:\n",
      "[[1.         0.         0.        ]\n",
      " [0.66666667 1.         0.        ]\n",
      " [0.33333333 0.8        1.        ]]\n"
     ]
    }
   ],
   "source": [
    "import numpy as np\n",
    "from scipy.linalg import lu\n",
    "A = np.array([[1, 2, 4], [2, 9, 12], [3, 26, 30]])\n",
    "P, L, U = lu(A)\n",
    "B = P.dot(L).dot(U)\n",
    "print(B)\n",
    "print('L-матрица:')\n",
    "print(L)"
   ]
  },
  {
   "cell_type": "markdown",
   "metadata": {},
   "source": [
    "3*. Решить систему линейных уравнений методом $LU$-разложения\n",
    "$$\\begin{cases} 2x_{1}+x_{2}+3x_{3}=1 \\\\ 11x_{1}+7x_{2}+5x_{3}=-6 \\\\ 9x_{1}+8x_{2}+4x_{3}=-5 \\end{cases}$$\n",
    "\n"
   ]
  },
  {
   "cell_type": "markdown",
   "metadata": {},
   "source": [
    "Матрица коэффициентов $A$ будет иметь вид\n",
    "$$\\begin{pmatrix} 2 & 1 & 3 \\\\ 11 & 7 & 5 \\\\ 9 & 8 & 4 \\end{pmatrix}.$$\n",
    "\n",
    "Начнем прямой ход метода Гаусса:\n",
    "$$\\begin{pmatrix} 2 & 1 & 3 \\\\ 0 & \\frac{3}{2} & \\frac{-23}{2} \\\\ 0 & 0 & \\frac{52}{3} \\end{pmatrix}.$$\n",
    "Матрица L - $$L=\\begin{pmatrix} 1 & 0 & 0 \\\\ \\frac{11}{2} & 1 & 0 \\\\ \\frac{9}{2} & \\frac{7}{2} & 1 \\end{pmatrix}.$$\n",
    "Матрица U -\n",
    "$$U=\\begin{pmatrix} 2 & 1 & 3 \\\\ 0 & 3 & -23 \\\\ 0 & 0 & \\frac{52}{9} \\end{pmatrix},$$\n",
    "\n",
    "Решим теперь систему $Ly=b:$\n",
    "$$\\begin{cases} y_{1}=1, \\\\ \\frac{11}{2}y_{1}+y_{2}=-6, \\\\ \\frac{9}{2}y_{1}+ \\frac{7}{2}y_{2}+y_{3}=-5. \\end{cases}$$$$y_{1} = 1,$$$$y_{2}=-6 -\\frac{11}{2} =11.5$$$$y_{3}=-5-\\frac{9}{2} - \\frac{7}{2}=-13.$$\n",
    "\n",
    "И затем систему\n",
    "$$x_1 = -1$$\n",
    "Произведем проверку, подставив полученные значения переменных в исходную систему:$$\\begin{cases} 2(-1)+3=1 \\\\ 11(-1)+5=-6 \\\\ 9(-1)+4=-5 \\end{cases}$$"
   ]
  },
  {
   "cell_type": "markdown",
   "metadata": {},
   "source": [
    "**4*. Решить систему линейных уравнений методом Холецкого**\n",
    "$$\\begin{cases} 81x_{1}-45x_{2}+45x_{3}=531 \\\\ -45x_{1}+50x_{2}-15x_{3}=-460 \\\\ 45x_{1}-15x_{2}+38x_{3}=193 \\end{cases}$$\n",
    "\n"
   ]
  },
  {
   "cell_type": "code",
   "execution_count": 2,
   "metadata": {},
   "outputs": [
    {
     "name": "stdout",
     "output_type": "stream",
     "text": [
      "[[ 9.  0.  0.]\n",
      " [-5.  5.  0.]\n",
      " [ 5.  2.  3.]]\n"
     ]
    }
   ],
   "source": [
    "from numpy.linalg import cholesky\n",
    "A = np.array([[81, -45, 45], [-45, 50, -15], [45, -15, 38]])\n",
    "L = cholesky(A)\n",
    "print(L)"
   ]
  },
  {
   "cell_type": "markdown",
   "metadata": {},
   "source": [
    "Решим систему $Ly=b:$\n",
    "$$\\begin{cases} 9y_{1}=531, \\\\ -5y_{1}+5y_{2}=-460, \\\\ 5y_{1}+2y_{2}+3y_{3}=193. \\end{cases}$$"
   ]
  },
  {
   "cell_type": "code",
   "execution_count": 3,
   "metadata": {},
   "outputs": [
    {
     "name": "stdout",
     "output_type": "stream",
     "text": [
      "[[ 9. -5.  5.]\n",
      " [ 0.  5.  2.]\n",
      " [ 0.  0.  3.]]\n"
     ]
    }
   ],
   "source": [
    "print(L.T)"
   ]
  },
  {
   "cell_type": "markdown",
   "metadata": {},
   "source": [
    "**5*. Написать на Python программу с реализацией одного из изученных алгоритмов решения СЛАУ.**"
   ]
  },
  {
   "cell_type": "code",
   "execution_count": 4,
   "metadata": {},
   "outputs": [],
   "source": [
    "# Минор\n",
    "def submatrix(M,c):\n",
    "    B = [[1]*len(M) for i in range(len(M))]\n",
    "    for l in range(len(M)):\n",
    "        for k in range(len(M)):\n",
    "            B[l][k] = M[l][k]\n",
    "    \n",
    "    B.pop(0)\n",
    "    \n",
    "    for i in range(len(B)):\n",
    "        B[i].pop(c)\n",
    "    return B\n",
    "\n",
    "# Метод Лапласа\n",
    "def det_L(M):\n",
    "    X = 0\n",
    "    if len(M) != len(M[0]):\n",
    "        print('Матрица не квадратная')\n",
    "    else:\n",
    "        if len(M)<=2:\n",
    "            return M[0][0] * M[1][1] - M[0][1] * M[1][0]\n",
    "        else:\n",
    "            for i in range(len(M)):\n",
    "                X = X + ((-1)**i)*M[0][i]*det_L(submatrix(M,i))\n",
    "        return X\n",
    "\n",
    "# Метод Крамера\n",
    "def Kramer(A,B):\n",
    "    det_A = det_L(A)\n",
    "    X = []\n",
    "    if det_A == 0:\n",
    "        print('Определитель матрицы не должен быть равен 0')\n",
    "        return X\n",
    "    n = len(A)    \n",
    "    for i in range(n):\n",
    "        matrix = A.copy()\n",
    "        matrix[:,i] = B\n",
    "        print('\\n',matrix)\n",
    "        X.append(det_L(matrix) / det_A)\n",
    "    return X"
   ]
  },
  {
   "cell_type": "code",
   "execution_count": 5,
   "metadata": {},
   "outputs": [
    {
     "name": "stdout",
     "output_type": "stream",
     "text": [
      "[[ 43 876 -29]\n",
      " [ 45  98   0]\n",
      " [-12   0   3]]\n",
      "\n",
      " [[-88  21  90]]\n",
      "\n",
      " -139722\n",
      "\n",
      " [[-88 876 -29]\n",
      " [ 21  98   0]\n",
      " [ 90   0   3]]\n",
      "\n",
      " [[ 43 -88 -29]\n",
      " [ 45  21   0]\n",
      " [-12  90   3]]\n",
      "\n",
      " [[ 43 876 -88]\n",
      " [ 45  98  21]\n",
      " [-12   0  90]]\n",
      "\n",
      " [-1.2504831021600034, 0.7884871387469403, 24.998067591359987]\n",
      "\n",
      " [[-88 876 -29]\n",
      " [ 21  98   0]\n",
      " [ 90   0   3]]\n",
      "\n",
      " [[ 43 -88 -29]\n",
      " [ 45  21   0]\n",
      " [-12  90   3]]\n",
      "\n",
      " [[ 43 876 -88]\n",
      " [ 45  98  21]\n",
      " [-12   0  90]]\n",
      "\n",
      " [[-88  21  90]],\n",
      "Метод Лапласа:\n",
      " -139722,\n",
      "Метод Крамера:\n",
      " [-1.2504831021600034, 0.7884871387469403, 24.998067591359987]\n"
     ]
    }
   ],
   "source": [
    "a = np.array([[43, 876, -29], [45, 98, 0], [-12, 0, 3]])\n",
    "b = np.array([[-88, 21, 90]])\n",
    "\n",
    "print(a)\n",
    "print('\\n',b)\n",
    "print('\\n', det_L(a))\n",
    "print('\\n', Kramer(a,b))\n",
    "\n",
    "print(f'\\n {b},\\n\\\n",
    "Метод Лапласа:\\n {det_L(a)},\\n\\\n",
    "Метод Крамера:\\n {Kramer(a,b)}')"
   ]
  }
 ],
 "metadata": {
  "kernelspec": {
   "display_name": "Python 3",
   "language": "python",
   "name": "python3"
  },
  "language_info": {
   "codemirror_mode": {
    "name": "ipython",
    "version": 3
   },
   "file_extension": ".py",
   "mimetype": "text/x-python",
   "name": "python",
   "nbconvert_exporter": "python",
   "pygments_lexer": "ipython3",
   "version": "3.8.5"
  }
 },
 "nbformat": 4,
 "nbformat_minor": 4
}
